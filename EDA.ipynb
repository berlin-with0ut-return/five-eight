{
 "cells": [
  {
   "cell_type": "markdown",
   "metadata": {},
   "source": [
    "# What is Five-Eight?\n",
    "Covet Fashion is a mobile game based in competitive *style challenges* against other players. As most top players know, the key to consitently scoring well is to analyze trending *makeup* (MU), *hairstyles* (HS), and *skin tones* (ST) for each look; several such Facebook groups are dedicated to this kind of reporting and analysis. However, manually analyzing trends can be both difficult and time-consuming. Based on data from thousands of looks across several years, *five-eight* attempts to automate the process of determining trends and allow players to score the coveted top look: 5.8 stars."
   ]
  },
  {
   "cell_type": "markdown",
   "metadata": {},
   "source": [
    "# Loading the Data & Preliminary Analyses"
   ]
  },
  {
   "cell_type": "markdown",
   "metadata": {},
   "source": [
    "The data used for *five-eight* was scraped from multiple Facebook groups, including Muses of Covet, Covet Hair and Makeup Tips - TCS, Muses of Covet Series Clones, Covet Fashion Friends, and Covet Fashion Angels, and stored in an Excel spreadsheet."
   ]
  },
  {
   "cell_type": "code",
   "execution_count": 2,
   "metadata": {},
   "outputs": [],
   "source": [
    "import pandas as pd\n",
    "import random"
   ]
  },
  {
   "cell_type": "code",
   "execution_count": 3,
   "metadata": {},
   "outputs": [],
   "source": [
    "data = pd.read_excel('scores.xlsx')"
   ]
  },
  {
   "cell_type": "code",
   "execution_count": 4,
   "metadata": {},
   "outputs": [
    {
     "data": {
      "text/html": [
       "<div>\n",
       "<style scoped>\n",
       "    .dataframe tbody tr th:only-of-type {\n",
       "        vertical-align: middle;\n",
       "    }\n",
       "\n",
       "    .dataframe tbody tr th {\n",
       "        vertical-align: top;\n",
       "    }\n",
       "\n",
       "    .dataframe thead th {\n",
       "        text-align: right;\n",
       "    }\n",
       "</style>\n",
       "<table border=\"1\" class=\"dataframe\">\n",
       "  <thead>\n",
       "    <tr style=\"text-align: right;\">\n",
       "      <th></th>\n",
       "      <th>hair_nm</th>\n",
       "    </tr>\n",
       "    <tr>\n",
       "      <th>type</th>\n",
       "      <th></th>\n",
       "    </tr>\n",
       "  </thead>\n",
       "  <tbody>\n",
       "    <tr>\n",
       "      <td>magical</td>\n",
       "      <td>265</td>\n",
       "    </tr>\n",
       "    <tr>\n",
       "      <td>casual</td>\n",
       "      <td>207</td>\n",
       "    </tr>\n",
       "    <tr>\n",
       "      <td>horror</td>\n",
       "      <td>139</td>\n",
       "    </tr>\n",
       "    <tr>\n",
       "      <td>formal</td>\n",
       "      <td>137</td>\n",
       "    </tr>\n",
       "    <tr>\n",
       "      <td>royal</td>\n",
       "      <td>126</td>\n",
       "    </tr>\n",
       "    <tr>\n",
       "      <td>bridal</td>\n",
       "      <td>123</td>\n",
       "    </tr>\n",
       "    <tr>\n",
       "      <td>scifi</td>\n",
       "      <td>121</td>\n",
       "    </tr>\n",
       "    <tr>\n",
       "      <td>punk</td>\n",
       "      <td>119</td>\n",
       "    </tr>\n",
       "    <tr>\n",
       "      <td>sports</td>\n",
       "      <td>118</td>\n",
       "    </tr>\n",
       "    <tr>\n",
       "      <td>Asian</td>\n",
       "      <td>116</td>\n",
       "    </tr>\n",
       "    <tr>\n",
       "      <td>professional</td>\n",
       "      <td>116</td>\n",
       "    </tr>\n",
       "    <tr>\n",
       "      <td>African</td>\n",
       "      <td>112</td>\n",
       "    </tr>\n",
       "    <tr>\n",
       "      <td>Spanish</td>\n",
       "      <td>108</td>\n",
       "    </tr>\n",
       "    <tr>\n",
       "      <td>retro</td>\n",
       "      <td>107</td>\n",
       "    </tr>\n",
       "  </tbody>\n",
       "</table>\n",
       "</div>"
      ],
      "text/plain": [
       "              hair_nm\n",
       "type                 \n",
       "magical           265\n",
       "casual            207\n",
       "horror            139\n",
       "formal            137\n",
       "royal             126\n",
       "bridal            123\n",
       "scifi             121\n",
       "punk              119\n",
       "sports            118\n",
       "Asian             116\n",
       "professional      116\n",
       "African           112\n",
       "Spanish           108\n",
       "retro             107"
      ]
     },
     "execution_count": 4,
     "metadata": {},
     "output_type": "execute_result"
    }
   ],
   "source": [
    "data[['hair_nm', 'type']].groupby('type').count().sort_values(['hair_nm'], ascending = False)"
   ]
  },
  {
   "cell_type": "markdown",
   "metadata": {},
   "source": [
    "# Coding\n",
    "Categorization was done mostly by keyword analysis. Below are the keywords associated with each category:\n",
    "- magical: magic, fairy, goddess, enchanted, power, wings, mermaid\n",
    "- royal: royal, prince, princess, queen, king, regal\n",
    "- sports: sports, fitness, yoga, football, soccer, skating, gym, hiking, ballet, tennis\n",
    "- formal: formal, movie star, celebrity, soiree, party, luxury\n",
    "- professional: professional, lawyer, secretary, interview, teacher, sleek\n",
    "- African: Africa, Egyptian\n",
    "- Spanish: Spain, flamenco\n",
    "- punk: punk, rebel, edgy, goth\n",
    "- scifi: technology, futuristic, space, time travel\n",
    "- horror: ghost, Frankenstein, witch, vampire, dead, zombie, goth, monster, dark, sinister\n",
    "- bridal: wedding, bride, marriage, elope\n",
    "- retro: retro, year numbers (50s, 60s, etc), steampunk, flapper\n",
    "- Asian: Chinese, Japanese, Korean, Indian, Vietamnese, Thai"
   ]
  },
  {
   "cell_type": "markdown",
   "metadata": {},
   "source": [
    "In addition, a catch-all category *casual* was added for most challenges that don't fall into a specific categories, involving mostly day-to-day activities such as shopping, cooking, family time, and such."
   ]
  },
  {
   "cell_type": "markdown",
   "metadata": {},
   "source": [
    "# Score Analysis"
   ]
  },
  {
   "cell_type": "code",
   "execution_count": 5,
   "metadata": {},
   "outputs": [
    {
     "data": {
      "text/html": [
       "<div>\n",
       "<style scoped>\n",
       "    .dataframe tbody tr th:only-of-type {\n",
       "        vertical-align: middle;\n",
       "    }\n",
       "\n",
       "    .dataframe tbody tr th {\n",
       "        vertical-align: top;\n",
       "    }\n",
       "\n",
       "    .dataframe thead th {\n",
       "        text-align: right;\n",
       "    }\n",
       "</style>\n",
       "<table border=\"1\" class=\"dataframe\">\n",
       "  <thead>\n",
       "    <tr style=\"text-align: right;\">\n",
       "      <th></th>\n",
       "      <th>type</th>\n",
       "      <th>hair_nm</th>\n",
       "      <th>hair_lvl</th>\n",
       "      <th>score</th>\n",
       "      <th>h_ct</th>\n",
       "    </tr>\n",
       "  </thead>\n",
       "  <tbody>\n",
       "    <tr>\n",
       "      <td>0</td>\n",
       "      <td>African</td>\n",
       "      <td>African Queen</td>\n",
       "      <td>12.0</td>\n",
       "      <td>4.277500</td>\n",
       "      <td>4</td>\n",
       "    </tr>\n",
       "    <tr>\n",
       "      <td>1</td>\n",
       "      <td>African</td>\n",
       "      <td>Ancient Couture</td>\n",
       "      <td>60.0</td>\n",
       "      <td>4.610000</td>\n",
       "      <td>2</td>\n",
       "    </tr>\n",
       "    <tr>\n",
       "      <td>2</td>\n",
       "      <td>African</td>\n",
       "      <td>Bald is Beautiful</td>\n",
       "      <td>5.0</td>\n",
       "      <td>4.337778</td>\n",
       "      <td>9</td>\n",
       "    </tr>\n",
       "    <tr>\n",
       "      <td>3</td>\n",
       "      <td>African</td>\n",
       "      <td>Beauty Queen</td>\n",
       "      <td>14.0</td>\n",
       "      <td>4.410000</td>\n",
       "      <td>1</td>\n",
       "    </tr>\n",
       "    <tr>\n",
       "      <td>4</td>\n",
       "      <td>African</td>\n",
       "      <td>Big Curls</td>\n",
       "      <td>7.0</td>\n",
       "      <td>4.366667</td>\n",
       "      <td>3</td>\n",
       "    </tr>\n",
       "  </tbody>\n",
       "</table>\n",
       "</div>"
      ],
      "text/plain": [
       "      type            hair_nm  hair_lvl     score  h_ct\n",
       "0  African      African Queen      12.0  4.277500     4\n",
       "1  African    Ancient Couture      60.0  4.610000     2\n",
       "2  African  Bald is Beautiful       5.0  4.337778     9\n",
       "3  African       Beauty Queen      14.0  4.410000     1\n",
       "4  African          Big Curls       7.0  4.366667     3"
      ]
     },
     "execution_count": 5,
     "metadata": {},
     "output_type": "execute_result"
    }
   ],
   "source": [
    "# finding mean scores and counts of each hairstyle for each challenge type\n",
    "# getting counts for each category, used for penalized averages later\n",
    "hair_cts = list(data.groupby(['type', 'hair_nm']).size().to_frame(name = 'h_ct').reset_index()['h_ct'])\n",
    "# finding average score, averaging level does nothing\n",
    "hair_means = data.drop(['mu_lvl'], axis = 1).groupby(['type', 'hair_nm'], as_index=False).mean()\n",
    "# adding counts back\n",
    "hair_means['h_ct'] = hair_cts\n",
    "hair_means.head()"
   ]
  },
  {
   "cell_type": "code",
   "execution_count": 6,
   "metadata": {},
   "outputs": [
    {
     "data": {
      "text/html": [
       "<div>\n",
       "<style scoped>\n",
       "    .dataframe tbody tr th:only-of-type {\n",
       "        vertical-align: middle;\n",
       "    }\n",
       "\n",
       "    .dataframe tbody tr th {\n",
       "        vertical-align: top;\n",
       "    }\n",
       "\n",
       "    .dataframe thead th {\n",
       "        text-align: right;\n",
       "    }\n",
       "</style>\n",
       "<table border=\"1\" class=\"dataframe\">\n",
       "  <thead>\n",
       "    <tr style=\"text-align: right;\">\n",
       "      <th></th>\n",
       "      <th>type</th>\n",
       "      <th>mu_nm</th>\n",
       "      <th>mu_lvl</th>\n",
       "      <th>score</th>\n",
       "      <th>mu_ct</th>\n",
       "    </tr>\n",
       "  </thead>\n",
       "  <tbody>\n",
       "    <tr>\n",
       "      <td>0</td>\n",
       "      <td>African</td>\n",
       "      <td>Allure</td>\n",
       "      <td>37.0</td>\n",
       "      <td>4.490000</td>\n",
       "      <td>1</td>\n",
       "    </tr>\n",
       "    <tr>\n",
       "      <td>1</td>\n",
       "      <td>African</td>\n",
       "      <td>Alternative Rock</td>\n",
       "      <td>35.0</td>\n",
       "      <td>4.360000</td>\n",
       "      <td>1</td>\n",
       "    </tr>\n",
       "    <tr>\n",
       "      <td>2</td>\n",
       "      <td>African</td>\n",
       "      <td>Angelic</td>\n",
       "      <td>60.0</td>\n",
       "      <td>4.680000</td>\n",
       "      <td>3</td>\n",
       "    </tr>\n",
       "    <tr>\n",
       "      <td>3</td>\n",
       "      <td>African</td>\n",
       "      <td>Ashen</td>\n",
       "      <td>16.0</td>\n",
       "      <td>4.340000</td>\n",
       "      <td>1</td>\n",
       "    </tr>\n",
       "    <tr>\n",
       "      <td>4</td>\n",
       "      <td>African</td>\n",
       "      <td>Ashy Browns</td>\n",
       "      <td>68.0</td>\n",
       "      <td>4.703333</td>\n",
       "      <td>3</td>\n",
       "    </tr>\n",
       "  </tbody>\n",
       "</table>\n",
       "</div>"
      ],
      "text/plain": [
       "      type             mu_nm  mu_lvl     score  mu_ct\n",
       "0  African            Allure    37.0  4.490000      1\n",
       "1  African  Alternative Rock    35.0  4.360000      1\n",
       "2  African           Angelic    60.0  4.680000      3\n",
       "3  African             Ashen    16.0  4.340000      1\n",
       "4  African       Ashy Browns    68.0  4.703333      3"
      ]
     },
     "execution_count": 6,
     "metadata": {},
     "output_type": "execute_result"
    }
   ],
   "source": [
    "# repeating for makeup (MUs) \n",
    "mu_cts = list(data.groupby(['type', 'mu_nm']).size().to_frame(name = 'mu_ct').reset_index()['mu_ct'])\n",
    "mu_means = data.drop(['hair_lvl'], axis = 1).groupby(['type', 'mu_nm'], as_index=False).mean()\n",
    "mu_means['mu_ct'] = mu_cts\n",
    "mu_means.head()"
   ]
  },
  {
   "cell_type": "code",
   "execution_count": 7,
   "metadata": {},
   "outputs": [
    {
     "data": {
      "text/html": [
       "<div>\n",
       "<style scoped>\n",
       "    .dataframe tbody tr th:only-of-type {\n",
       "        vertical-align: middle;\n",
       "    }\n",
       "\n",
       "    .dataframe tbody tr th {\n",
       "        vertical-align: top;\n",
       "    }\n",
       "\n",
       "    .dataframe thead th {\n",
       "        text-align: right;\n",
       "    }\n",
       "</style>\n",
       "<table border=\"1\" class=\"dataframe\">\n",
       "  <thead>\n",
       "    <tr style=\"text-align: right;\">\n",
       "      <th></th>\n",
       "      <th>type</th>\n",
       "      <th>ST</th>\n",
       "      <th>score</th>\n",
       "      <th>st_ct</th>\n",
       "    </tr>\n",
       "  </thead>\n",
       "  <tbody>\n",
       "    <tr>\n",
       "      <td>0</td>\n",
       "      <td>African</td>\n",
       "      <td>dark</td>\n",
       "      <td>4.465455</td>\n",
       "      <td>55</td>\n",
       "    </tr>\n",
       "    <tr>\n",
       "      <td>1</td>\n",
       "      <td>African</td>\n",
       "      <td>medium dark</td>\n",
       "      <td>4.586545</td>\n",
       "      <td>55</td>\n",
       "    </tr>\n",
       "    <tr>\n",
       "      <td>2</td>\n",
       "      <td>African</td>\n",
       "      <td>olive</td>\n",
       "      <td>4.305000</td>\n",
       "      <td>2</td>\n",
       "    </tr>\n",
       "    <tr>\n",
       "      <td>3</td>\n",
       "      <td>Asian</td>\n",
       "      <td>light olive</td>\n",
       "      <td>4.578462</td>\n",
       "      <td>13</td>\n",
       "    </tr>\n",
       "    <tr>\n",
       "      <td>4</td>\n",
       "      <td>Asian</td>\n",
       "      <td>medium dark</td>\n",
       "      <td>4.180000</td>\n",
       "      <td>4</td>\n",
       "    </tr>\n",
       "  </tbody>\n",
       "</table>\n",
       "</div>"
      ],
      "text/plain": [
       "      type           ST     score  st_ct\n",
       "0  African         dark  4.465455     55\n",
       "1  African  medium dark  4.586545     55\n",
       "2  African        olive  4.305000      2\n",
       "3    Asian  light olive  4.578462     13\n",
       "4    Asian  medium dark  4.180000      4"
      ]
     },
     "execution_count": 7,
     "metadata": {},
     "output_type": "execute_result"
    }
   ],
   "source": [
    "# repeating for STs\n",
    "st_cts = list(data.groupby(['type', 'ST']).size().to_frame(name = 'st_ct').reset_index()['st_ct'])\n",
    "# STs have no level\n",
    "st_means = data.drop(['hair_lvl', 'mu_lvl'], axis = 1).groupby(['type', 'ST'], as_index=False).mean()\n",
    "# adding counts back\n",
    "st_means['st_ct'] = st_cts\n",
    "st_means.head()"
   ]
  },
  {
   "cell_type": "markdown",
   "metadata": {},
   "source": [
    "# Penalized Scoring\n",
    "Because Covet Fashion allows an almost infinite combination of hair/makeup, there are some makeup choices that are generally less popular, but may score higher due to outliers in the dataset. Instead of removing these, I decided to use a penalty system that would \"boost\" popular makeup/hairstyles, and penalize less popular ones. This decision was made for two reasons:\n",
    "- (1) the *mere exposure effect*: the psychological phenomenon that frequent exposure to something increases liking to it. In the context of Covet Fashion, MUs/HSs that are used more commonly tend to score higher, even if they are not intrinsically more \"stylish\".\n",
    "- (2) the *bandwagon effect*: the psychological phenomenon that individual tend to follow what others do. In the context of Covet Fashion, players observe that certain MUs/HSs score higher; this leads to more players using it, and feeds back into the mere exposure effect."
   ]
  },
  {
   "cell_type": "markdown",
   "metadata": {},
   "source": [
    "These two effects create a positive feedback loop, boosting the scores of MU/HS/ST with higher usage."
   ]
  },
  {
   "cell_type": "markdown",
   "metadata": {},
   "source": [
    "<img src= \"Voting Feedback Loop.png\" />"
   ]
  },
  {
   "cell_type": "code",
   "execution_count": 8,
   "metadata": {},
   "outputs": [
    {
     "data": {
      "text/html": [
       "<div>\n",
       "<style scoped>\n",
       "    .dataframe tbody tr th:only-of-type {\n",
       "        vertical-align: middle;\n",
       "    }\n",
       "\n",
       "    .dataframe tbody tr th {\n",
       "        vertical-align: top;\n",
       "    }\n",
       "\n",
       "    .dataframe thead th {\n",
       "        text-align: right;\n",
       "    }\n",
       "</style>\n",
       "<table border=\"1\" class=\"dataframe\">\n",
       "  <thead>\n",
       "    <tr style=\"text-align: right;\">\n",
       "      <th></th>\n",
       "      <th>type</th>\n",
       "      <th>hair_nm</th>\n",
       "      <th>hair_lvl</th>\n",
       "      <th>score</th>\n",
       "      <th>h_ct</th>\n",
       "      <th>pen_score</th>\n",
       "    </tr>\n",
       "  </thead>\n",
       "  <tbody>\n",
       "    <tr>\n",
       "      <td>0</td>\n",
       "      <td>African</td>\n",
       "      <td>African Queen</td>\n",
       "      <td>12.0</td>\n",
       "      <td>4.277500</td>\n",
       "      <td>4</td>\n",
       "      <td>4.027500</td>\n",
       "    </tr>\n",
       "    <tr>\n",
       "      <td>1</td>\n",
       "      <td>African</td>\n",
       "      <td>Ancient Couture</td>\n",
       "      <td>60.0</td>\n",
       "      <td>4.610000</td>\n",
       "      <td>2</td>\n",
       "      <td>4.110000</td>\n",
       "    </tr>\n",
       "    <tr>\n",
       "      <td>2</td>\n",
       "      <td>African</td>\n",
       "      <td>Bald is Beautiful</td>\n",
       "      <td>5.0</td>\n",
       "      <td>4.337778</td>\n",
       "      <td>9</td>\n",
       "      <td>4.226667</td>\n",
       "    </tr>\n",
       "    <tr>\n",
       "      <td>3</td>\n",
       "      <td>African</td>\n",
       "      <td>Beauty Queen</td>\n",
       "      <td>14.0</td>\n",
       "      <td>4.410000</td>\n",
       "      <td>1</td>\n",
       "      <td>3.410000</td>\n",
       "    </tr>\n",
       "    <tr>\n",
       "      <td>4</td>\n",
       "      <td>African</td>\n",
       "      <td>Big Curls</td>\n",
       "      <td>7.0</td>\n",
       "      <td>4.366667</td>\n",
       "      <td>3</td>\n",
       "      <td>4.033333</td>\n",
       "    </tr>\n",
       "  </tbody>\n",
       "</table>\n",
       "</div>"
      ],
      "text/plain": [
       "      type            hair_nm  hair_lvl     score  h_ct  pen_score\n",
       "0  African      African Queen      12.0  4.277500     4   4.027500\n",
       "1  African    Ancient Couture      60.0  4.610000     2   4.110000\n",
       "2  African  Bald is Beautiful       5.0  4.337778     9   4.226667\n",
       "3  African       Beauty Queen      14.0  4.410000     1   3.410000\n",
       "4  African          Big Curls       7.0  4.366667     3   4.033333"
      ]
     },
     "execution_count": 8,
     "metadata": {},
     "output_type": "execute_result"
    }
   ],
   "source": [
    "# penalizing hair scores\n",
    "hair_means['pen_score'] = hair_means['score'] - 1/hair_means['h_ct']\n",
    "hair_means.head()"
   ]
  },
  {
   "cell_type": "code",
   "execution_count": 9,
   "metadata": {},
   "outputs": [],
   "source": [
    "# repeating for STs, MUs\n",
    "mu_means['pen_score'] = mu_means['score'] - 1/mu_means['mu_ct']\n",
    "st_means['pen_score'] = st_means['score'] - 1/st_means['st_ct']"
   ]
  },
  {
   "cell_type": "markdown",
   "metadata": {},
   "source": [
    "# Simlating the Web App"
   ]
  },
  {
   "cell_type": "markdown",
   "metadata": {},
   "source": [
    "The finished web app is based in R Shiny. The function below is a rough mockup of the output and functioning of the completed web app."
   ]
  },
  {
   "cell_type": "code",
   "execution_count": 35,
   "metadata": {},
   "outputs": [],
   "source": [
    "def find_highest(player_lvl, chal_type):\n",
    "    \"\"\"Returns the recommended HS, ST, and MU based on player level and challenge type\"\"\"\n",
    "    if player_lvl < 1:\n",
    "        print(\"Please enter valid level\")\n",
    "        return\n",
    "    # getting valid HS/MU (available at player's current level)\n",
    "    valid_hs = hair_means[(hair_means['hair_lvl'] <= player_lvl) & (hair_means['type'] == chal_type)]\n",
    "    valid_mu = mu_means[(mu_means['mu_lvl'] <= player_lvl) & (mu_means['type'] == chal_type)]\n",
    "    valid_st = st_means[st_means['type'] == chal_type]\n",
    "    # extracting highest value, while checking for empty dataframe (insufficient data available)\n",
    "    if not valid_hs.empty:\n",
    "        sorted_hs = valid_hs.sort_values('pen_score', ascending=False)\n",
    "        best_hs = sorted_hs['hair_nm'].iloc[0]\n",
    "        avg_hs = round(sorted_hs['score'].iloc[0], 2)\n",
    "        hs_lvl = int(sorted_hs['hair_lvl'].iloc[0])\n",
    "        print(\"Hairstyle: {0} (level {1})\".format(best_hs, hs_lvl))\n",
    "        print(\"This hairstyle scores {0} on average in {1}-themed challenges\".format(avg_hs, chal_type))\n",
    "    else:\n",
    "        print(\"Sorry, we currently don't have enough data for hairstyles at your level. If you would like to contribute your data to improve our website, please click here.\")\n",
    "    if not valid_mu.empty:\n",
    "        sorted_mu = valid_mu.sort_values('pen_score', ascending=False)\n",
    "        mu_lvl = int(sorted_mu['mu_lvl'].iloc[0])\n",
    "        best_mu = sorted_mu['mu_nm'].iloc[0]\n",
    "        avg_mu = round(sorted_mu['score'].iloc[0], 2)\n",
    "        print(\"Makeup: {0} (level {1})\".format(best_mu, mu_lvl))\n",
    "        print(\"This makeup scores {0} on average in {1}-themed challenges\".format(avg_mu, chal_type))\n",
    "    else:\n",
    "        print(\"Sorry, we currently don't have enough data for makeup at your level. If you would like to contribute your data to improve our website, please click here.\")\n",
    "    sorted_st = valid_st.sort_values('pen_score', ascending=False)\n",
    "    best_st = sorted_st['ST'].iloc[0]\n",
    "    avg_st = round(sorted_st['score'].iloc[0], 2)\n",
    "    print(\"Skin Tone: {0}\".format(best_st))\n",
    "    print(\"This skin tone scores {0} on average in {1}-themed challenges\".format(avg_st, chal_type))"
   ]
  },
  {
   "cell_type": "code",
   "execution_count": 11,
   "metadata": {},
   "outputs": [
    {
     "name": "stdout",
     "output_type": "stream",
     "text": [
      "Hairstyle: Twisted Braids (level 1)\n",
      "This hairstyle scores 4.49 on average in African-themed challenges\n",
      "Sorry, we currently don't have enough data for makeup at your level. If you would like to contribute your data to improve our website, please click here.\n",
      "Skin Tone: medium dark\n",
      "This skin tone scores 4.59 on average in African-themed challenges\n"
     ]
    }
   ],
   "source": [
    "find_highest(1, 'African')"
   ]
  },
  {
   "cell_type": "code",
   "execution_count": 12,
   "metadata": {},
   "outputs": [
    {
     "name": "stdout",
     "output_type": "stream",
     "text": [
      "Hairstyle: Neat Bun (level 10)\n",
      "This hairstyle scores 4.39 on average in Asian-themed challenges\n",
      "Makeup: Grace (level 3)\n",
      "This makeup scores 4.98 on average in Asian-themed challenges\n",
      "Skin Tone: light olive\n",
      "This skin tone scores 4.58 on average in Asian-themed challenges\n"
     ]
    }
   ],
   "source": [
    "find_highest(17, 'Asian')"
   ]
  },
  {
   "cell_type": "code",
   "execution_count": 13,
   "metadata": {},
   "outputs": [
    {
     "name": "stdout",
     "output_type": "stream",
     "text": [
      "Please enter valid level\n"
     ]
    }
   ],
   "source": [
    "find_highest(-7, 'Asian')"
   ]
  },
  {
   "cell_type": "code",
   "execution_count": 14,
   "metadata": {},
   "outputs": [
    {
     "name": "stdout",
     "output_type": "stream",
     "text": [
      "Sorry, we currently don't have enough data for hairstyles at your level. If you would like to contribute your data to improve our website, please click here.\n",
      "Makeup: Luxe (level 1)\n",
      "This makeup scores 4.13 on average in royal-themed challenges\n",
      "Skin Tone: olive\n",
      "This skin tone scores 4.43 on average in royal-themed challenges\n"
     ]
    }
   ],
   "source": [
    "find_highest(2, 'royal')"
   ]
  },
  {
   "cell_type": "code",
   "execution_count": 15,
   "metadata": {},
   "outputs": [
    {
     "name": "stdout",
     "output_type": "stream",
     "text": [
      "Hairstyle: Let Your Hair Down (level 58)\n",
      "This hairstyle scores 4.66 on average in magical-themed challenges\n",
      "Makeup: Pout (level 32)\n",
      "This makeup scores 4.61 on average in magical-themed challenges\n",
      "Skin Tone: olive\n",
      "This skin tone scores 4.49 on average in magical-themed challenges\n"
     ]
    }
   ],
   "source": [
    "find_highest(59, 'magical')"
   ]
  },
  {
   "cell_type": "code",
   "execution_count": 16,
   "metadata": {},
   "outputs": [
    {
     "name": "stdout",
     "output_type": "stream",
     "text": [
      "Hairstyle: Rocker (level 8)\n",
      "This hairstyle scores 4.78 on average in punk-themed challenges\n",
      "Makeup: Magenta Madness (level 8)\n",
      "This makeup scores 4.69 on average in punk-themed challenges\n",
      "Skin Tone: tan\n",
      "This skin tone scores 4.46 on average in punk-themed challenges\n"
     ]
    }
   ],
   "source": [
    "find_highest(52, 'punk')"
   ]
  },
  {
   "cell_type": "code",
   "execution_count": 17,
   "metadata": {},
   "outputs": [
    {
     "name": "stdout",
     "output_type": "stream",
     "text": [
      "Hairstyle: Natural Fro (level 40)\n",
      "This hairstyle scores 4.57 on average in casual-themed challenges\n",
      "Makeup: Brown Shadow (level 64)\n",
      "This makeup scores 4.64 on average in casual-themed challenges\n",
      "Skin Tone: olive\n",
      "This skin tone scores 4.4 on average in casual-themed challenges\n"
     ]
    }
   ],
   "source": [
    "find_highest(66, 'casual')"
   ]
  },
  {
   "cell_type": "code",
   "execution_count": 18,
   "metadata": {},
   "outputs": [
    {
     "name": "stdout",
     "output_type": "stream",
     "text": [
      "Hairstyle: Sweet Fringe (level 38)\n",
      "This hairstyle scores 4.98 on average in sports-themed challenges\n",
      "Makeup: Earth Tones (level 41)\n",
      "This makeup scores 4.58 on average in sports-themed challenges\n",
      "Skin Tone: medium dark\n",
      "This skin tone scores 4.43 on average in sports-themed challenges\n"
     ]
    }
   ],
   "source": [
    "find_highest(55, 'sports')"
   ]
  },
  {
   "cell_type": "code",
   "execution_count": 19,
   "metadata": {},
   "outputs": [
    {
     "name": "stdout",
     "output_type": "stream",
     "text": [
      "Hairstyle: Chignon (level 11)\n",
      "This hairstyle scores 4.5 on average in formal-themed challenges\n",
      "Makeup: Atlantis (level 16)\n",
      "This makeup scores 4.41 on average in formal-themed challenges\n",
      "Skin Tone: olive\n",
      "This skin tone scores 4.41 on average in formal-themed challenges\n"
     ]
    }
   ],
   "source": [
    "find_highest(27, 'formal')"
   ]
  },
  {
   "cell_type": "code",
   "execution_count": 20,
   "metadata": {},
   "outputs": [
    {
     "name": "stdout",
     "output_type": "stream",
     "text": [
      "Hairstyle: Windy Day (level 53)\n",
      "This hairstyle scores 4.66 on average in professional-themed challenges\n",
      "Makeup: Smouldering Eyes (level 32)\n",
      "This makeup scores 4.53 on average in professional-themed challenges\n",
      "Skin Tone: medium dark\n",
      "This skin tone scores 4.48 on average in professional-themed challenges\n"
     ]
    }
   ],
   "source": [
    "find_highest(61, 'professional')"
   ]
  },
  {
   "cell_type": "code",
   "execution_count": 21,
   "metadata": {},
   "outputs": [
    {
     "name": "stdout",
     "output_type": "stream",
     "text": [
      "Hairstyle: Windy Day (level 53)\n",
      "This hairstyle scores 4.65 on average in Spanish-themed challenges\n",
      "Makeup: Satin Red (level 60)\n",
      "This makeup scores 4.59 on average in Spanish-themed challenges\n",
      "Skin Tone: olive\n",
      "This skin tone scores 4.44 on average in Spanish-themed challenges\n"
     ]
    }
   ],
   "source": [
    "find_highest(73, 'Spanish')"
   ]
  },
  {
   "cell_type": "code",
   "execution_count": 22,
   "metadata": {},
   "outputs": [
    {
     "name": "stdout",
     "output_type": "stream",
     "text": [
      "Hairstyle: Long and Loose (level 10)\n",
      "This hairstyle scores 4.47 on average in scifi-themed challenges\n",
      "Makeup: In Bloom (level 2)\n",
      "This makeup scores 4.48 on average in scifi-themed challenges\n",
      "Skin Tone: olive\n",
      "This skin tone scores 4.53 on average in scifi-themed challenges\n"
     ]
    }
   ],
   "source": [
    "find_highest(11, 'scifi')"
   ]
  },
  {
   "cell_type": "code",
   "execution_count": 40,
   "metadata": {},
   "outputs": [
    {
     "name": "stdout",
     "output_type": "stream",
     "text": [
      "26\n",
      "Hairstyle: Cascading Curls (level 17)\n",
      "This hairstyle scores 4.42 on average in professional-themed challenges\n",
      "Makeup: Fruit of the Desert (level 12)\n",
      "This makeup scores 4.59 on average in professional-themed challenges\n",
      "Skin Tone: medium dark\n",
      "This skin tone scores 4.48 on average in professional-themed challenges\n"
     ]
    }
   ],
   "source": [
    "categories = ['casual', 'royal', 'magical', 'sports', 'formal', 'professional', 'African', 'Spanish',\n",
    "             'punk', 'scifi', 'horror', 'bridal', 'retro', 'Asian']\n",
    "rndm_lvl = random.randint(1, 85)\n",
    "print(rndm_lvl)\n",
    "rndm_type = random.choice(categories)\n",
    "find_highest(rndm_lvl, rndm_type)"
   ]
  },
  {
   "cell_type": "code",
   "execution_count": null,
   "metadata": {},
   "outputs": [],
   "source": []
  }
 ],
 "metadata": {
  "kernelspec": {
   "display_name": "Python 3",
   "language": "python",
   "name": "python3"
  },
  "language_info": {
   "codemirror_mode": {
    "name": "ipython",
    "version": 3
   },
   "file_extension": ".py",
   "mimetype": "text/x-python",
   "name": "python",
   "nbconvert_exporter": "python",
   "pygments_lexer": "ipython3",
   "version": "3.7.4"
  }
 },
 "nbformat": 4,
 "nbformat_minor": 2
}
